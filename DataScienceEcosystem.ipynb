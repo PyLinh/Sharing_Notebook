# This is a simple calculation
result = 10 + 5

# Print the result
print("The result is: ", result)
