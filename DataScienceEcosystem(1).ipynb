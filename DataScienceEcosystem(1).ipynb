{
 "cells": [
  {
   "cell_type": "markdown",
   "id": "d126c359",
   "metadata": {},
   "source": [
    "## Exercise 11\n",
    "### Create a markdown cell to indicate the Author's name.\n",
    "\n",
    "In this markdown cell  markdown cell include the following text Author in H2 style heading. Include your name as regular text below the word Author.\n",
    "\n",
    "**My exercise is executed below here:**\n",
    "    \n",
    "## Author:\n",
    "Linh Tran\n",
    "\n"
   ]
  },
  {
   "cell_type": "markdown",
   "id": "ff6093f3",
   "metadata": {},
   "source": [
    "## Exercise 1\n",
    "\n",
    "Create a Jupyter Notebook Called: DataScienceEcosystem.ipynb"
   ]
  },
  {
   "cell_type": "markdown",
   "id": "b8ad20ee",
   "metadata": {},
   "source": [
    "## Exercise 2\n",
    "\n",
    "### Create markdown cell with title of the notebook\n",
    "\n",
    "Create a markdown cell with the tile Data Science Tools and Ecosystem using H1 style heading.\n",
    "\n",
    "#### My exercise is executed below here:\n",
    "\n",
    "# Data Science Tool and Ecosystem\n",
    "\n"
   ]
  },
  {
   "cell_type": "markdown",
   "id": "b42ba1e5",
   "metadata": {},
   "source": [
    "## Exercise 3\n",
    "### Create a markdown cell for an introduction\n",
    "Write an introductory sentence aboutthe notebook such as the follows:\n",
    "In this notebook, Data Science Tools and Ecosystem are summarized.\n",
    "\n",
    "#### My exercise is executed below here:\n",
    "\n",
    "In this notebook, Data Science Tools and Ecosystem are summarized.\n",
    "\n",
    "**Objectives:**\n",
    "- Comprehensive overview of essential Data Science tools.\n",
    "- A detailed analysis of the Data Science ecosystem.\n",
    "- Clear and concise summaries of various tools used in Data Science.\n",
    "- In depth exploration of the various components within the Data Science ecosystem.\n"
   ]
  },
  {
   "cell_type": "markdown",
   "id": "4a30e636",
   "metadata": {},
   "source": [
    "## Exercise 4\n",
    "### Create a markdown cell to list data science languages\n",
    "Start the the cell with an overview line such as:\n",
    "\n",
    "Some of te popular languages that Data Scientists use are:\n",
    "Then create an ordered list (i.e. numbered) listing 3 (or more) commonly used languages for data science.\n",
    "\n",
    "#### My exercise is executed below here:\n",
    "\n",
    "### List of Data Science Languages\n",
    "Some of te popular languages that Data Scientists use are:\n",
    "1. Python\n",
    "2. SQL\n",
    "3. R\n",
    "4. Scala\n",
    "5. C\n",
    "6. C++"
   ]
  },
  {
   "cell_type": "markdown",
   "id": "19cae262",
   "metadata": {},
   "source": [
    "## Exercise 5\n",
    "### Create a markdown cell to list data science libraries\n",
    "Add an overview line to the cell like:\n",
    "\n",
    "Some of the commonly used libraries used by Data scientists include:\n",
    "Below this line add an ordered list listing 3 (or more) commonly used libraries in data science.\n",
    "\n",
    "\n",
    "#### My exercise is executed below here:\n",
    "\n",
    "\n",
    "### Some of the commonly used libraries used by Data Scientists include:\n",
    "1. Pandas\n",
    "2. SQL\n",
    "3. Matplotlib\n",
    "4. Numpy\n",
    "5. Scikit-Learn\n"
   ]
  },
  {
   "cell_type": "markdown",
   "id": "7cced921",
   "metadata": {},
   "source": [
    "## Exercise 6\n",
    "### Create a markdown cell with a table of Data Science tools\n",
    "\n",
    "Create a single column table in this cell with the firest row containing the header Data Science Tools.\n",
    "The Subsequent three rows in the table should indicate three development environment open source tools used in data science.\n",
    "\n",
    "#### My exercise is executed below here:\n",
    "\n",
    "|  Data Science Tools |\n",
    "|-------------------|\n",
    "|  Jupyter Notebook   |\n",
    "|  Rstudio          |\n",
    "|  Spyder             |"
   ]
  },
  {
   "cell_type": "markdown",
   "id": "51f6e302",
   "metadata": {},
   "source": [
    "## Exercise 7\n",
    "### Create a markdown cell introducting arithmetic expression examples\n",
    "Add a line in this cel with H3 style heading with text like:\n",
    "Below are a few examples of evaluating arithmetic expressions in Python.\n",
    "\n",
    "#### My exercise is executed below here:\n",
    "\n",
    "### Introduction to Arithmetic Expression Examples \n",
    "Below are a few examples of evaluating arithmetic expressions in Python."
   ]
  },
  {
   "cell_type": "code",
   "execution_count": 8,
   "id": "70637454",
   "metadata": {},
   "outputs": [
    {
     "name": "stdout",
     "output_type": "stream",
     "text": [
      "40\n",
      "24\n",
      "256\n",
      "4.0\n",
      "True\n"
     ]
    }
   ],
   "source": [
    "# Arithmetic Expressions\n",
    "x = 32\n",
    "y = 8\n",
    "\n",
    "add = x + y\n",
    "sub = x - y\n",
    "mult = x * y\n",
    "div = x / y\n",
    "\n",
    "print(add)\n",
    "print(sub)\n",
    "print(mult)\n",
    "print(div)\n",
    "\n",
    "# Relational Expressions\n",
    "a = 41\n",
    "b = 23\n",
    "c = 60\n",
    "d = 57\n",
    "\n",
    "e = (a + b) >= (c - d)\n",
    "\n",
    "print(e)"
   ]
  },
  {
   "cell_type": "markdown",
   "id": "dffe895a",
   "metadata": {},
   "source": [
    "## Exercise 8\n",
    "### Create a code cell to multiply and add numbers\n",
    "\n",
    "In this code cell evaluate the expression (3*4)+5\n",
    "*Insert a comment line before the expression to explain the operation e.g. This a simple arithmetic expression to multiply then add integers.*\n",
    "Then  execute the cell to ensure the expression returns the expected output of 17.\n",
    "\n",
    "#### My exercise is executed below here:"
   ]
  },
  {
   "cell_type": "code",
   "execution_count": 11,
   "id": "10966a34",
   "metadata": {},
   "outputs": [
    {
     "name": "stdout",
     "output_type": "stream",
     "text": [
      "17\n"
     ]
    }
   ],
   "source": [
    "# This a simple arithmetic expression to multiply then add integers\n",
    "s = (3 * 4) + 5\n",
    "\n",
    "print(s)"
   ]
  },
  {
   "cell_type": "markdown",
   "id": "693ff3ce",
   "metadata": {},
   "source": [
    "## Exercise 9\n",
    "### Create a code cell to convert minutes to hours\n",
    "\n",
    "In this code cell write an expression that converts 200 minutes into hours.\n",
    "*Insert a comment line before the expression to explain the operation e.g. This will convert 200 minutes to hours by diving by 60.*\n",
    "\n",
    "Run the cell to evaluate expression.\n",
    "\n",
    "#### My exercise is executed below here:"
   ]
  },
  {
   "cell_type": "code",
   "execution_count": 12,
   "id": "0ee6998b",
   "metadata": {},
   "outputs": [
    {
     "name": "stdout",
     "output_type": "stream",
     "text": [
      "3.3333333333333335\n"
     ]
    }
   ],
   "source": [
    "# This will convert 200 minutes to hours by diving by 60.\n",
    "\n",
    "minutes = 200\n",
    "hours = minutes / 60\n",
    "\n",
    "print(hours)"
   ]
  },
  {
   "cell_type": "markdown",
   "id": "342c6f8c",
   "metadata": {},
   "source": [
    "## Exercise 10\n",
    "### Insert a markdown cll to list Objectives\n",
    "\n",
    "Below the introduction cell created in exercise 3, insert a new markdown cell to list the objectives that this notebook covered (i.e. some of the key takeaways from the course).\n",
    "In this new cell start with an introductory line titled: Objectives: in bold font. Then using an unordered list (bullets) indicate 3 to 5 items covered in this notebook, such as List popular languages for Data Science.\n",
    "\n",
    "#### My exercise is executed below here:\n",
    "\n",
    "**Objective:**\n",
    "- List popular languages for Data Science.\n",
    "- Explore common libraries used in Data Science.\n",
    "- Discuss essential tools in the Data Science ecosystem.\n",
    "- Demonstrate Basic arithmetic operations in Python.\n",
    "- Illustrate simple time unit conversion in Python."
   ]
  }
 ],
 "metadata": {
  "kernelspec": {
   "display_name": "Python 3 (ipykernel)",
   "language": "python",
   "name": "python3"
  },
  "language_info": {
   "codemirror_mode": {
    "name": "ipython",
    "version": 3
   },
   "file_extension": ".py",
   "mimetype": "text/x-python",
   "name": "python",
   "nbconvert_exporter": "python",
   "pygments_lexer": "ipython3",
   "version": "3.11.4"
  }
 },
 "nbformat": 4,
 "nbformat_minor": 5
}
